{
 "cells": [
  {
   "cell_type": "code",
   "execution_count": 13,
   "metadata": {
    "collapsed": false
   },
   "outputs": [
    {
     "name": "stdout",
     "output_type": "stream",
     "text": [
      "\\draw (0,0)node[block]{Your Label 1};\n",
      "\\draw (6.1,0)node[block]{Your Label 1};\n",
      "\\draw (0,-2.1)node[block]{Your Label 1};\n",
      "\\draw (6.1,-2.1)node[block]{Your Label 1};\n",
      "\\draw (0,-4.2)node[block]{Your Label 1};\n",
      "\\draw (6.1,-4.2)node[block]{Your Label 1};\n",
      "\\draw (0,-6.3)node[block]{Your Label 1};\n",
      "\\draw (6.1,-6.3)node[block]{Your Label 1};\n",
      "\\draw (0,-8.4)node[block]{Your Label 1};\n",
      "\\draw (6.1,-8.4)node[block]{Your Label 1};\n",
      "\\draw (0,-10.5)node[block]{Your Label 1};\n",
      "\\draw (6.1,-10.5)node[block]{Your Label 1};\n",
      "\\draw (0,-12.6)node[block]{Your Label 1};\n",
      "\\draw (6.1,-12.6)node[block]{Your Label 1};\n",
      "\\draw (0,-14.7)node[block]{Your Label 1};\n",
      "\\draw (6.1,-14.7)node[block]{Your Label 1};\n",
      "\n"
     ]
    }
   ],
   "source": [
    "def gen():\n",
    "\n",
    "    columns=2\n",
    "    rows=8\n",
    "    \n",
    "    xdim=6.1\n",
    "    ydim=-2.1\n",
    "    \n",
    "    r=0\n",
    "    s=\"\"\n",
    "    text1=\"\\draw (\"\n",
    "    text2=\")node[block]{Your Label 1};\\n\"\n",
    "    y=0\n",
    "    while r < rows:\n",
    "        c=0\n",
    "        x=0\n",
    "        while c < columns:\n",
    "            s+=text1+str(round(x,1))+\",\"+str(round(y,1))+text2\n",
    "            x+=xdim\n",
    "            c+=1\n",
    "        y+=ydim\n",
    "\n",
    "        r+=1\n",
    "    print(s)\n",
    "    \n",
    "gen()"
   ]
  },
  {
   "cell_type": "code",
   "execution_count": 1,
   "metadata": {
    "collapsed": false
   },
   "outputs": [
    {
     "name": "stdout",
     "output_type": "stream",
     "text": [
      "hey\n"
     ]
    }
   ],
   "source": [
    "2+2\n",
    "print(\"hey\")"
   ]
  },
  {
   "cell_type": "code",
   "execution_count": null,
   "metadata": {
    "collapsed": true
   },
   "outputs": [],
   "source": []
  },
  {
   "cell_type": "code",
   "execution_count": null,
   "metadata": {
    "collapsed": true
   },
   "outputs": [],
   "source": []
  }
 ],
 "metadata": {
  "kernelspec": {
   "display_name": "Python 3",
   "language": "python",
   "name": "python3"
  },
  "language_info": {
   "codemirror_mode": {
    "name": "ipython",
    "version": 3
   },
   "file_extension": ".py",
   "mimetype": "text/x-python",
   "name": "python",
   "nbconvert_exporter": "python",
   "pygments_lexer": "ipython3",
   "version": "3.5.2"
  }
 },
 "nbformat": 4,
 "nbformat_minor": 1
}
